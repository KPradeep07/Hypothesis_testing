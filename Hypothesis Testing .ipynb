{
 "cells": [
  {
   "cell_type": "code",
   "execution_count": 2,
   "id": "493d636f",
   "metadata": {},
   "outputs": [],
   "source": [
    "import pandas as pd\n",
    "from scipy import stats\n",
    "import matplotlib as plt\n",
    "import seaborn as sn\n",
    "import numpy as np"
   ]
  },
  {
   "cell_type": "markdown",
   "id": "04b830e9",
   "metadata": {},
   "source": [
    "###   Q.1   A F&B manager wants to determine whether there is any significant difference in the diameter of the cutlet between two units. A randomly selected sample of cutlets was collected from both units and measured? Analyze the data and draw inferences at 5% significance level. Please state the assumptions and tests that you carried out to check validity of the assumptions.\n",
    "\n",
    "### Ans.- As two samples given are continuous variables (Numeric data), here we can use individual sample \"t- test\", Considering following null and alternate hypothesis\n",
    "\n",
    "### H0= There is no difference in diameters(d1=d2)\n",
    "### H1= There is difference in diameters(d1!=d2)\n"
   ]
  },
  {
   "cell_type": "code",
   "execution_count": 3,
   "id": "8f46d394",
   "metadata": {},
   "outputs": [],
   "source": [
    "cutlet = pd.read_csv(\"D:\\pyt\\Assignment\\Assignment 3-Hypothesis Testing\\Cutlets.csv\") #loading data set"
   ]
  },
  {
   "cell_type": "code",
   "execution_count": 4,
   "id": "89d0aee0",
   "metadata": {},
   "outputs": [
    {
     "data": {
      "text/html": [
       "<div>\n",
       "<style scoped>\n",
       "    .dataframe tbody tr th:only-of-type {\n",
       "        vertical-align: middle;\n",
       "    }\n",
       "\n",
       "    .dataframe tbody tr th {\n",
       "        vertical-align: top;\n",
       "    }\n",
       "\n",
       "    .dataframe thead th {\n",
       "        text-align: right;\n",
       "    }\n",
       "</style>\n",
       "<table border=\"1\" class=\"dataframe\">\n",
       "  <thead>\n",
       "    <tr style=\"text-align: right;\">\n",
       "      <th></th>\n",
       "      <th>Unit A</th>\n",
       "      <th>Unit B</th>\n",
       "    </tr>\n",
       "  </thead>\n",
       "  <tbody>\n",
       "    <tr>\n",
       "      <th>0</th>\n",
       "      <td>6.8090</td>\n",
       "      <td>6.7703</td>\n",
       "    </tr>\n",
       "    <tr>\n",
       "      <th>1</th>\n",
       "      <td>6.4376</td>\n",
       "      <td>7.5093</td>\n",
       "    </tr>\n",
       "    <tr>\n",
       "      <th>2</th>\n",
       "      <td>6.9157</td>\n",
       "      <td>6.7300</td>\n",
       "    </tr>\n",
       "    <tr>\n",
       "      <th>3</th>\n",
       "      <td>7.3012</td>\n",
       "      <td>6.7878</td>\n",
       "    </tr>\n",
       "    <tr>\n",
       "      <th>4</th>\n",
       "      <td>7.4488</td>\n",
       "      <td>7.1522</td>\n",
       "    </tr>\n",
       "  </tbody>\n",
       "</table>\n",
       "</div>"
      ],
      "text/plain": [
       "   Unit A  Unit B\n",
       "0  6.8090  6.7703\n",
       "1  6.4376  7.5093\n",
       "2  6.9157  6.7300\n",
       "3  7.3012  6.7878\n",
       "4  7.4488  7.1522"
      ]
     },
     "execution_count": 4,
     "metadata": {},
     "output_type": "execute_result"
    }
   ],
   "source": [
    "cutlet.head()  "
   ]
  },
  {
   "cell_type": "code",
   "execution_count": 5,
   "id": "21a056bb",
   "metadata": {},
   "outputs": [],
   "source": [
    "unit_A= cutlet.iloc[:,0] #for comparison, we are creating two arrays unit_A & unit_B using iloc fucntion"
   ]
  },
  {
   "cell_type": "code",
   "execution_count": 6,
   "id": "406160e4",
   "metadata": {},
   "outputs": [],
   "source": [
    "unit_B=cutlet.iloc[:,1]"
   ]
  },
  {
   "cell_type": "code",
   "execution_count": 7,
   "id": "33c39fe1",
   "metadata": {},
   "outputs": [
    {
     "name": "stdout",
     "output_type": "stream",
     "text": [
      "Statistical value is 0.7229\n",
      "p value is 0.4722\n"
     ]
    }
   ],
   "source": [
    "stat_value, p_value =np.round(stats.ttest_ind(unit_A,unit_B),4)\n",
    "print(f\"Statistical value is {stat_value}\")\n",
    "print(f\"p value is {p_value}\")"
   ]
  },
  {
   "cell_type": "code",
   "execution_count": 8,
   "id": "458c9294",
   "metadata": {},
   "outputs": [],
   "source": [
    "alpha = 0.05 # significance value given in problem statement "
   ]
  },
  {
   "cell_type": "code",
   "execution_count": 9,
   "id": "55efb784",
   "metadata": {},
   "outputs": [
    {
     "name": "stdout",
     "output_type": "stream",
     "text": [
      "We fail to reject the null hypothesis\n",
      "There is no significant difference between the diameter\n"
     ]
    }
   ],
   "source": [
    "if p_value < alpha:\n",
    "    print(\"We reject the null hypothesis\")        # reject null (H0) and accept the aleternate (H1) hypothesis\n",
    "    print(\"There is significant difference between the diameter\")\n",
    "else:\n",
    "    print(\"We fail to reject the null hypothesis\") # accept null (H0) and reject the aleternate (H1) hypothesis\n",
    "    print(\"There is no significant difference between the diameter\")"
   ]
  },
  {
   "cell_type": "markdown",
   "id": "e1a57eb9",
   "metadata": {},
   "source": [
    "### Q. 2 A hospital wants to determine whether there is any difference in the average Turn Around Time (TAT) of reports of the laboratories on their preferred list. They collected a random sample and recorded TAT for reports of 4 laboratories. TAT is defined as sample collected to report dispatch. Analyze the data and determine whether there is any difference in average TAT among the different laboratories at 5% significance level.\n",
    "\n",
    "### Ans.:- Here 4 samples are given in numeric form(continuous variable) i.e. 4 continuous variables. Hence we are going to use \"ANOVO test\"\n",
    "\n",
    "### H0= TAT for all labs are same (lab1=lab2=lab3=lab4)\n",
    "### H1= TAT for all labs are not same (lab1 != lab2 != lab3 != lab4)\n"
   ]
  },
  {
   "cell_type": "code",
   "execution_count": 10,
   "id": "debb58d8",
   "metadata": {},
   "outputs": [],
   "source": [
    "tat=pd.read_csv(\"D:\\pyt\\Assignment\\Assignment 3-Hypothesis Testing\\LabTAT.csv\")"
   ]
  },
  {
   "cell_type": "code",
   "execution_count": 11,
   "id": "6a0894eb",
   "metadata": {},
   "outputs": [
    {
     "data": {
      "text/html": [
       "<div>\n",
       "<style scoped>\n",
       "    .dataframe tbody tr th:only-of-type {\n",
       "        vertical-align: middle;\n",
       "    }\n",
       "\n",
       "    .dataframe tbody tr th {\n",
       "        vertical-align: top;\n",
       "    }\n",
       "\n",
       "    .dataframe thead th {\n",
       "        text-align: right;\n",
       "    }\n",
       "</style>\n",
       "<table border=\"1\" class=\"dataframe\">\n",
       "  <thead>\n",
       "    <tr style=\"text-align: right;\">\n",
       "      <th></th>\n",
       "      <th>Laboratory 1</th>\n",
       "      <th>Laboratory 2</th>\n",
       "      <th>Laboratory 3</th>\n",
       "      <th>Laboratory 4</th>\n",
       "    </tr>\n",
       "  </thead>\n",
       "  <tbody>\n",
       "    <tr>\n",
       "      <th>0</th>\n",
       "      <td>185.35</td>\n",
       "      <td>165.53</td>\n",
       "      <td>176.70</td>\n",
       "      <td>166.13</td>\n",
       "    </tr>\n",
       "    <tr>\n",
       "      <th>1</th>\n",
       "      <td>170.49</td>\n",
       "      <td>185.91</td>\n",
       "      <td>198.45</td>\n",
       "      <td>160.79</td>\n",
       "    </tr>\n",
       "    <tr>\n",
       "      <th>2</th>\n",
       "      <td>192.77</td>\n",
       "      <td>194.92</td>\n",
       "      <td>201.23</td>\n",
       "      <td>185.18</td>\n",
       "    </tr>\n",
       "    <tr>\n",
       "      <th>3</th>\n",
       "      <td>177.33</td>\n",
       "      <td>183.00</td>\n",
       "      <td>199.61</td>\n",
       "      <td>176.42</td>\n",
       "    </tr>\n",
       "    <tr>\n",
       "      <th>4</th>\n",
       "      <td>193.41</td>\n",
       "      <td>169.57</td>\n",
       "      <td>204.63</td>\n",
       "      <td>152.60</td>\n",
       "    </tr>\n",
       "  </tbody>\n",
       "</table>\n",
       "</div>"
      ],
      "text/plain": [
       "   Laboratory 1  Laboratory 2  Laboratory 3  Laboratory 4\n",
       "0        185.35        165.53        176.70        166.13\n",
       "1        170.49        185.91        198.45        160.79\n",
       "2        192.77        194.92        201.23        185.18\n",
       "3        177.33        183.00        199.61        176.42\n",
       "4        193.41        169.57        204.63        152.60"
      ]
     },
     "execution_count": 11,
     "metadata": {},
     "output_type": "execute_result"
    }
   ],
   "source": [
    "tat.head()"
   ]
  },
  {
   "cell_type": "code",
   "execution_count": 12,
   "id": "36450576",
   "metadata": {},
   "outputs": [],
   "source": [
    "lab_1=tat.iloc[:,0]\n",
    "lab_2=tat.iloc[:,1]\n",
    "lab_3=tat.iloc[:,2]\n",
    "lab_4=tat.iloc[:,3]"
   ]
  },
  {
   "cell_type": "code",
   "execution_count": 13,
   "id": "a18aa8e3",
   "metadata": {},
   "outputs": [
    {
     "name": "stdout",
     "output_type": "stream",
     "text": [
      "Statistical value is 118.70421654401437\n",
      "p value is 2.1156708949992414e-57\n"
     ]
    }
   ],
   "source": [
    "stat_val1, p_val1=stats.f_oneway(lab_1,lab_2,lab_3,lab_4)\n",
    "print(f\"Statistical value is {(stat_val1)}\")\n",
    "print(f\"p value is {p_val1}\")"
   ]
  },
  {
   "cell_type": "code",
   "execution_count": 14,
   "id": "ea38cb15",
   "metadata": {},
   "outputs": [],
   "source": [
    "alpha = 0.05 # significance value given in problem statement "
   ]
  },
  {
   "cell_type": "code",
   "execution_count": 15,
   "id": "4913cf0e",
   "metadata": {},
   "outputs": [
    {
     "name": "stdout",
     "output_type": "stream",
     "text": [
      "We reject the null hypothesis\n",
      "TAT's for all labs are not same\n"
     ]
    }
   ],
   "source": [
    "if p_val1 < alpha:\n",
    "    print(\"We reject the null hypothesis\")           # reject null (H0) and accept the aleternate (H1) hypothesis\n",
    "    print(\"TAT's for all labs are not same\")\n",
    "else:\n",
    "    print(\"We fail to reject the null hypothesis\")    # accept null (H0) and reject the aleternate (H1) hypothesis\n",
    "    print(\"There is no significant difference between the diameter\")"
   ]
  },
  {
   "cell_type": "markdown",
   "id": "e4c58ac1",
   "metadata": {},
   "source": [
    "### Q.3 Sales of products in four different regions is tabulated for males and females. Find if male-female buyer rations are similar across regions.\n",
    "\n",
    "### Ans.:- As This is catagorical data, we will perfrom chi-square test for independance( as the data we are testing is independant), Chi-square goodness of fit test is performed when we are comparing the data with population.\n",
    "\n",
    "### H0= all proportions are equal\n",
    "### H1= all proportions are not equal"
   ]
  },
  {
   "cell_type": "code",
   "execution_count": 16,
   "id": "012fad47",
   "metadata": {},
   "outputs": [],
   "source": [
    "buyer_ratio=pd.read_csv(\"D:\\pyt\\Assignment\\Assignment 3-Hypothesis Testing\\BuyerRatio.csv\")"
   ]
  },
  {
   "cell_type": "code",
   "execution_count": 17,
   "id": "74c683f4",
   "metadata": {},
   "outputs": [
    {
     "data": {
      "text/html": [
       "<div>\n",
       "<style scoped>\n",
       "    .dataframe tbody tr th:only-of-type {\n",
       "        vertical-align: middle;\n",
       "    }\n",
       "\n",
       "    .dataframe tbody tr th {\n",
       "        vertical-align: top;\n",
       "    }\n",
       "\n",
       "    .dataframe thead th {\n",
       "        text-align: right;\n",
       "    }\n",
       "</style>\n",
       "<table border=\"1\" class=\"dataframe\">\n",
       "  <thead>\n",
       "    <tr style=\"text-align: right;\">\n",
       "      <th></th>\n",
       "      <th>Observed Values</th>\n",
       "      <th>East</th>\n",
       "      <th>West</th>\n",
       "      <th>North</th>\n",
       "      <th>South</th>\n",
       "    </tr>\n",
       "  </thead>\n",
       "  <tbody>\n",
       "    <tr>\n",
       "      <th>0</th>\n",
       "      <td>Males</td>\n",
       "      <td>50</td>\n",
       "      <td>142</td>\n",
       "      <td>131</td>\n",
       "      <td>70</td>\n",
       "    </tr>\n",
       "    <tr>\n",
       "      <th>1</th>\n",
       "      <td>Females</td>\n",
       "      <td>435</td>\n",
       "      <td>1523</td>\n",
       "      <td>1356</td>\n",
       "      <td>750</td>\n",
       "    </tr>\n",
       "  </tbody>\n",
       "</table>\n",
       "</div>"
      ],
      "text/plain": [
       "  Observed Values  East  West  North  South\n",
       "0           Males    50   142    131     70\n",
       "1         Females   435  1523   1356    750"
      ]
     },
     "execution_count": 17,
     "metadata": {},
     "output_type": "execute_result"
    }
   ],
   "source": [
    "buyer_ratio.head()"
   ]
  },
  {
   "cell_type": "code",
   "execution_count": 22,
   "id": "d63ff5fa",
   "metadata": {},
   "outputs": [],
   "source": [
    "# Separating males and females from given file as given files also have \"str\" hance can not be directly sullpied to chi function\n",
    "males=buyer_ratio.iloc[0,1:]\n",
    "females=buyer_ratio.iloc[1,1:]"
   ]
  },
  {
   "cell_type": "code",
   "execution_count": 30,
   "id": "4c8fabcf",
   "metadata": {},
   "outputs": [
    {
     "name": "stdout",
     "output_type": "stream",
     "text": [
      "[East      50\n",
      "West     142\n",
      "North    131\n",
      "South     70\n",
      "Name: 0, dtype: object, East      435\n",
      "West     1523\n",
      "North    1356\n",
      "South     750\n",
      "Name: 1, dtype: object]\n"
     ]
    }
   ],
   "source": [
    "buyer=[males,females]    # making the table\n",
    "print(buyer)"
   ]
  },
  {
   "cell_type": "code",
   "execution_count": 41,
   "id": "e45bb66b",
   "metadata": {},
   "outputs": [],
   "source": [
    "stat=stats.chi2_contingency(buyer)"
   ]
  },
  {
   "cell_type": "code",
   "execution_count": 43,
   "id": "e06cdd02",
   "metadata": {},
   "outputs": [
    {
     "data": {
      "text/plain": [
       "(1.595945538661058,\n",
       " 0.6603094907091882,\n",
       " 3,\n",
       " array([[  42.76531299,  146.81287862,  131.11756787,   72.30424052],\n",
       "        [ 442.23468701, 1518.18712138, 1355.88243213,  747.69575948]]))"
      ]
     },
     "execution_count": 43,
     "metadata": {},
     "output_type": "execute_result"
    }
   ],
   "source": [
    "# first value in output at zero index is chi-square value, value at first index is p_value,\n",
    "# value at second index is df(degrees of freedom), and finally at third index we have table of expected values \n",
    "stat       "
   ]
  },
  {
   "cell_type": "code",
   "execution_count": 45,
   "id": "47658bab",
   "metadata": {},
   "outputs": [
    {
     "data": {
      "text/plain": [
       "1.595945538661058"
      ]
     },
     "execution_count": 45,
     "metadata": {},
     "output_type": "execute_result"
    }
   ],
   "source": [
    "chi_stat= stat[0]\n",
    "chi_stat"
   ]
  },
  {
   "cell_type": "code",
   "execution_count": 46,
   "id": "7993d923",
   "metadata": {},
   "outputs": [
    {
     "data": {
      "text/plain": [
       "0.6603094907091882"
      ]
     },
     "execution_count": 46,
     "metadata": {},
     "output_type": "execute_result"
    }
   ],
   "source": [
    "p_valu= stat[1]\n",
    "p_valu"
   ]
  },
  {
   "cell_type": "code",
   "execution_count": 47,
   "id": "f86ceb66",
   "metadata": {},
   "outputs": [
    {
     "data": {
      "text/plain": [
       "3"
      ]
     },
     "execution_count": 47,
     "metadata": {},
     "output_type": "execute_result"
    }
   ],
   "source": [
    "deg_free =stat[2]\n",
    "deg_free"
   ]
  },
  {
   "cell_type": "code",
   "execution_count": 48,
   "id": "2139ad76",
   "metadata": {},
   "outputs": [
    {
     "data": {
      "text/plain": [
       "array([[  42.76531299,  146.81287862,  131.11756787,   72.30424052],\n",
       "       [ 442.23468701, 1518.18712138, 1355.88243213,  747.69575948]])"
      ]
     },
     "execution_count": 48,
     "metadata": {},
     "output_type": "execute_result"
    }
   ],
   "source": [
    "expeted_val =stat[3]\n",
    "expeted_val"
   ]
  },
  {
   "cell_type": "code",
   "execution_count": 64,
   "id": "b6077655",
   "metadata": {},
   "outputs": [
    {
     "name": "stdout",
     "output_type": "stream",
     "text": [
      "We fail to reject the null hypothesis\n",
      "All Proprtions are equal\n"
     ]
    }
   ],
   "source": [
    "alpha=0.05\n",
    "if p_valu < alpha:\n",
    "    print(\"We reject the null hypothesis\")           # reject null (H0) and accept the aleternate (H1) hypothesis\n",
    "    print(\"All Proportions are not equal\")\n",
    "else:\n",
    "    print(\"We fail to reject the null hypothesis\")    # accept null (H0) and reject the aleternate (H1) hypothesis\n",
    "    print(\"All Proprtions are equal\")"
   ]
  },
  {
   "cell_type": "code",
   "execution_count": 66,
   "id": "8eb72d92",
   "metadata": {},
   "outputs": [
    {
     "data": {
      "text/plain": [
       "array([[  42.76531299,  146.81287862,  131.11756787,   72.30424052],\n",
       "       [ 442.23468701, 1518.18712138, 1355.88243213,  747.69575948]])"
      ]
     },
     "execution_count": 66,
     "metadata": {},
     "output_type": "execute_result"
    }
   ],
   "source": [
    "stats.contingency.expected_freq(buyer)           # To calculate expected values"
   ]
  },
  {
   "cell_type": "markdown",
   "id": "f7db51dc",
   "metadata": {},
   "source": [
    "###  Same thing calculated below by manual calculations(Alternate method)"
   ]
  },
  {
   "cell_type": "code",
   "execution_count": 88,
   "id": "b2533e72",
   "metadata": {},
   "outputs": [
    {
     "data": {
      "text/plain": [
       "East      1.34226\n",
       "West     0.173035\n",
       "North    0.000116\n",
       "South    0.080534\n",
       "dtype: object"
      ]
     },
     "execution_count": 88,
     "metadata": {},
     "output_type": "execute_result"
    }
   ],
   "source": [
    "chi_sq= sum([(o-e)**2/e for o,e in zip (buyer,expeted_val)]) # Zip is used because of matrix\n",
    "chi_sq"
   ]
  },
  {
   "cell_type": "code",
   "execution_count": 85,
   "id": "f8f64dff",
   "metadata": {},
   "outputs": [
    {
     "data": {
      "text/plain": [
       "1.5959455386610577"
      ]
     },
     "execution_count": 85,
     "metadata": {},
     "output_type": "execute_result"
    }
   ],
   "source": [
    "# output of above are 4 rows, hence adding these\n",
    "chi_squ=chi_sq[0]+chi_sq[1]+chi_sq[2]+chi_sq[3]\n",
    "chi_squ"
   ]
  },
  {
   "cell_type": "code",
   "execution_count": 86,
   "id": "7f28f54f",
   "metadata": {},
   "outputs": [
    {
     "data": {
      "text/plain": [
       "7.814727903251179"
      ]
     },
     "execution_count": 86,
     "metadata": {},
     "output_type": "execute_result"
    }
   ],
   "source": [
    "critical_val=stats.chi2.ppf(0.95,deg_free) # cirital value at 5 % significance level\n",
    "critical_val"
   ]
  },
  {
   "cell_type": "code",
   "execution_count": 89,
   "id": "60091d47",
   "metadata": {},
   "outputs": [
    {
     "data": {
      "text/plain": [
       "0.6603094907091882"
      ]
     },
     "execution_count": 89,
     "metadata": {},
     "output_type": "execute_result"
    }
   ],
   "source": [
    "p_value12= 1-stats.chi2.cdf(chi_squ,df=3)  \n",
    "p_value12"
   ]
  },
  {
   "cell_type": "code",
   "execution_count": 90,
   "id": "c1e585e4",
   "metadata": {},
   "outputs": [
    {
     "name": "stdout",
     "output_type": "stream",
     "text": [
      "Fail to reject null\n"
     ]
    }
   ],
   "source": [
    "if chi_squ >= critical_val:\n",
    "    print(\"Reject the null\")\n",
    "else:\n",
    "    print(\"Fail to reject null\")"
   ]
  },
  {
   "attachments": {},
   "cell_type": "markdown",
   "id": "aa5ab602",
   "metadata": {},
   "source": [
    "### Q.4 TeleCall uses 4 centers around the globe to process customer order forms. They audit a certain %  of the customer order forms. Any error in order form renders it defective and has to be reworked before processing.  The manager wants to check whether the defective %  varies by centre. Please analyze the data at 5% significance level and help the manager draw appropriate inferences\n",
    "\n",
    "### Ans.:- Here data given is catogorical data hence we will use chi-square test of independance \n",
    "\n",
    "### H0= defective % are same for all centers\n",
    "### H1= defective % are not same for all centers"
   ]
  },
  {
   "cell_type": "code",
   "execution_count": 91,
   "id": "ec56396b",
   "metadata": {},
   "outputs": [],
   "source": [
    "df=pd.read_csv(\"D:\\pyt\\Assignment\\Assignment 3-Hypothesis Testing\\Costomer+OrderForm.csv\")"
   ]
  },
  {
   "cell_type": "code",
   "execution_count": 92,
   "id": "a1cd1b19",
   "metadata": {},
   "outputs": [
    {
     "data": {
      "text/html": [
       "<div>\n",
       "<style scoped>\n",
       "    .dataframe tbody tr th:only-of-type {\n",
       "        vertical-align: middle;\n",
       "    }\n",
       "\n",
       "    .dataframe tbody tr th {\n",
       "        vertical-align: top;\n",
       "    }\n",
       "\n",
       "    .dataframe thead th {\n",
       "        text-align: right;\n",
       "    }\n",
       "</style>\n",
       "<table border=\"1\" class=\"dataframe\">\n",
       "  <thead>\n",
       "    <tr style=\"text-align: right;\">\n",
       "      <th></th>\n",
       "      <th>Phillippines</th>\n",
       "      <th>Indonesia</th>\n",
       "      <th>Malta</th>\n",
       "      <th>India</th>\n",
       "    </tr>\n",
       "  </thead>\n",
       "  <tbody>\n",
       "    <tr>\n",
       "      <th>0</th>\n",
       "      <td>Error Free</td>\n",
       "      <td>Error Free</td>\n",
       "      <td>Defective</td>\n",
       "      <td>Error Free</td>\n",
       "    </tr>\n",
       "    <tr>\n",
       "      <th>1</th>\n",
       "      <td>Error Free</td>\n",
       "      <td>Error Free</td>\n",
       "      <td>Error Free</td>\n",
       "      <td>Defective</td>\n",
       "    </tr>\n",
       "    <tr>\n",
       "      <th>2</th>\n",
       "      <td>Error Free</td>\n",
       "      <td>Defective</td>\n",
       "      <td>Defective</td>\n",
       "      <td>Error Free</td>\n",
       "    </tr>\n",
       "    <tr>\n",
       "      <th>3</th>\n",
       "      <td>Error Free</td>\n",
       "      <td>Error Free</td>\n",
       "      <td>Error Free</td>\n",
       "      <td>Error Free</td>\n",
       "    </tr>\n",
       "    <tr>\n",
       "      <th>4</th>\n",
       "      <td>Error Free</td>\n",
       "      <td>Error Free</td>\n",
       "      <td>Defective</td>\n",
       "      <td>Error Free</td>\n",
       "    </tr>\n",
       "  </tbody>\n",
       "</table>\n",
       "</div>"
      ],
      "text/plain": [
       "  Phillippines   Indonesia       Malta       India\n",
       "0   Error Free  Error Free   Defective  Error Free\n",
       "1   Error Free  Error Free  Error Free   Defective\n",
       "2   Error Free   Defective   Defective  Error Free\n",
       "3   Error Free  Error Free  Error Free  Error Free\n",
       "4   Error Free  Error Free   Defective  Error Free"
      ]
     },
     "execution_count": 92,
     "metadata": {},
     "output_type": "execute_result"
    }
   ],
   "source": [
    "df.head()"
   ]
  },
  {
   "cell_type": "code",
   "execution_count": 102,
   "id": "f55e12c5",
   "metadata": {},
   "outputs": [],
   "source": [
    "phil=df.Phillippines.value_counts()\n",
    "indo=df.Indonesia.value_counts()\n",
    "malta=df.Malta.value_counts()\n",
    "india=df.India.value_counts()"
   ]
  },
  {
   "cell_type": "code",
   "execution_count": 103,
   "id": "15a92eca",
   "metadata": {},
   "outputs": [
    {
     "data": {
      "text/plain": [
       "array([280,  20], dtype=int64)"
      ]
     },
     "execution_count": 103,
     "metadata": {},
     "output_type": "execute_result"
    }
   ],
   "source": [
    "phil.values\n",
    "indo.values\n",
    "malta.values\n",
    "india.values"
   ]
  },
  {
   "cell_type": "code",
   "execution_count": 105,
   "id": "6df9ba8b",
   "metadata": {},
   "outputs": [],
   "source": [
    "df_1=[phil.values[0],indo.values[0],malta.values[0],india.values[0]]\n",
    "df_2=[phil.values[1],indo.values[1],malta.values[1],india.values[1]]\n",
    "data=[df_1,df_2]"
   ]
  },
  {
   "cell_type": "code",
   "execution_count": 106,
   "id": "57547a7d",
   "metadata": {},
   "outputs": [
    {
     "data": {
      "text/plain": [
       "[[271, 267, 269, 280], [29, 33, 31, 20]]"
      ]
     },
     "execution_count": 106,
     "metadata": {},
     "output_type": "execute_result"
    }
   ],
   "source": [
    "data"
   ]
  },
  {
   "cell_type": "code",
   "execution_count": 108,
   "id": "0a7486ce",
   "metadata": {},
   "outputs": [],
   "source": [
    "results=stats.chi2_contingency(data)"
   ]
  },
  {
   "cell_type": "code",
   "execution_count": 110,
   "id": "abc665d9",
   "metadata": {},
   "outputs": [
    {
     "data": {
      "text/plain": [
       "0.2771020991233135"
      ]
     },
     "execution_count": 110,
     "metadata": {},
     "output_type": "execute_result"
    }
   ],
   "source": [
    "p_value1=results[1]\n",
    "p_value1"
   ]
  },
  {
   "cell_type": "code",
   "execution_count": 111,
   "id": "169e67aa",
   "metadata": {},
   "outputs": [
    {
     "name": "stdout",
     "output_type": "stream",
     "text": [
      "We fail to reject the null hypothesis\n",
      "All Proprtions are equal\n"
     ]
    }
   ],
   "source": [
    "alpha=0.05\n",
    "if p_value1 < alpha:\n",
    "    print(\"We reject the null hypothesis\")           # reject null (H0) and accept the aleternate (H1) hypothesis\n",
    "    print(\"All Proportions are not equal\")\n",
    "else:\n",
    "    print(\"We fail to reject the null hypothesis\")    # accept null (H0) and reject the aleternate (H1) hypothesis\n",
    "    print(\"All Proprtions are equal\")"
   ]
  }
 ],
 "metadata": {
  "kernelspec": {
   "display_name": "Python 3",
   "language": "python",
   "name": "python3"
  },
  "language_info": {
   "codemirror_mode": {
    "name": "ipython",
    "version": 3
   },
   "file_extension": ".py",
   "mimetype": "text/x-python",
   "name": "python",
   "nbconvert_exporter": "python",
   "pygments_lexer": "ipython3",
   "version": "3.8.8"
  }
 },
 "nbformat": 4,
 "nbformat_minor": 5
}
